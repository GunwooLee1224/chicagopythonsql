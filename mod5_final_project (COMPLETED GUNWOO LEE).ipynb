{
  "cells": [
    {
      "cell_type": "markdown",
      "metadata": {
        "id": "a528759d-0280-4776-925b-51d1abc66f17"
      },
      "source": [
        "<center>\n",
        "    <img src=\"https://cf-courses-data.s3.us.cloud-object-storage.appdomain.cloud/IBMDeveloperSkillsNetwork-DB0201EN-SkillsNetwork/labs/FinalModule_Coursera_V5/images/SN_web_lightmode.png\" width=\"300\" alt=\"cognitiveclass.ai logo\">\n",
        "</center>\n",
        "\n",
        "<h1 align=center><font size = 5>Assignment: Notebook for Graded Assessment</font></h1>\n"
      ]
    },
    {
      "cell_type": "markdown",
      "metadata": {
        "id": "f2c80fe7-99b5-4671-b510-301bc45173c1"
      },
      "source": [
        "# Introduction\n",
        "\n",
        "Using this Python notebook you will:\n",
        "\n",
        "1.  Understand three Chicago datasets\n",
        "2.  Load the three datasets into three tables in a SQLIte database\n",
        "3.  Execute SQL queries to answer assignment questions\n"
      ]
    },
    {
      "cell_type": "markdown",
      "metadata": {
        "id": "352ed13f-e4c4-49e2-ade3-1af77123f696"
      },
      "source": [
        "## Understand the datasets\n",
        "\n",
        "To complete the assignment problems in this notebook you will be using three datasets that are available on the city of Chicago's Data Portal:\n",
        "\n",
        "1.  <a href=\"https://data.cityofchicago.org/Health-Human-Services/Census-Data-Selected-socioeconomic-indicators-in-C/kn9c-c2s2?utm_medium=Exinfluencer&utm_source=Exinfluencer&utm_content=000026UJ&utm_term=10006555&utm_id=NA-SkillsNetwork-Channel-SkillsNetworkCoursesIBMDeveloperSkillsNetworkDB0201ENSkillsNetwork20127838-2021-01-01\">Socioeconomic Indicators in Chicago</a>\n",
        "2.  <a href=\"https://data.cityofchicago.org/Education/Chicago-Public-Schools-Progress-Report-Cards-2011-/9xs2-f89t?utm_medium=Exinfluencer&utm_source=Exinfluencer&utm_content=000026UJ&utm_term=10006555&utm_id=NA-SkillsNetwork-Channel-SkillsNetworkCoursesIBMDeveloperSkillsNetworkDB0201ENSkillsNetwork20127838-2021-01-01\">Chicago Public Schools</a>\n",
        "3.  <a href=\"https://data.cityofchicago.org/Public-Safety/Crimes-2001-to-present/ijzp-q8t2?utm_medium=Exinfluencer&utm_source=Exinfluencer&utm_content=000026UJ&utm_term=10006555&utm_id=NA-SkillsNetwork-Channel-SkillsNetworkCoursesIBMDeveloperSkillsNetworkDB0201ENSkillsNetwork20127838-2021-01-01\">Chicago Crime Data</a>\n",
        "\n",
        "### 1. Socioeconomic Indicators in Chicago\n",
        "\n",
        "This dataset contains a selection of six socioeconomic indicators of public health significance and a “hardship index,” for each Chicago community area, for the years 2008 – 2012.\n",
        "\n",
        "A detailed description of this dataset and the original dataset can be obtained from the Chicago Data Portal at:\n",
        "\n",
        "[https://data.cityofchicago.org/Health-Human-Services/Census-Data-Selected-socioeconomic-indicators-in-C/kn9c-c2s2](https://data.cityofchicago.org/Health-Human-Services/Census-Data-Selected-socioeconomic-indicators-in-C/kn9c-c2s2?utm_medium=Exinfluencer&utm_source=Exinfluencer&utm_content=000026UJ&utm_term=10006555&utm_id=NA-SkillsNetwork-Channel-SkillsNetworkCoursesIBMDeveloperSkillsNetworkDB0201ENSkillsNetwork20127838-2021-01-01&cm_mmc=Email_Newsletter-\\_-Developer_Ed%2BTech-\\_-WW_WW-\\_-SkillsNetwork-Courses-IBMDeveloperSkillsNetwork-DB0201EN-SkillsNetwork-20127838&cm_mmca1=000026UJ&cm_mmca2=10006555&cm_mmca3=M12345678&cvosrc=email.Newsletter.M12345678&cvo_campaign=000026UJ)\n",
        "\n",
        "### 2. Chicago Public Schools\n",
        "\n",
        "This dataset shows all school level performance data used to create CPS School Report Cards for the 2011-2012 school year. This dataset is provided by the city of Chicago's Data Portal.\n",
        "\n",
        "A detailed description of this dataset and the original dataset can be obtained from the Chicago Data Portal at:\n",
        "\n",
        "[https://data.cityofchicago.org/Education/Chicago-Public-Schools-Progress-Report-Cards-2011-/9xs2-f89t](https://data.cityofchicago.org/Education/Chicago-Public-Schools-Progress-Report-Cards-2011-/9xs2-f89t?utm_medium=Exinfluencer&utm_source=Exinfluencer&utm_content=000026UJ&utm_term=10006555&utm_id=NA-SkillsNetwork-Channel-SkillsNetworkCoursesIBMDeveloperSkillsNetworkDB0201ENSkillsNetwork20127838-2021-01-01&cm_mmc=Email_Newsletter-\\_-Developer_Ed%2BTech-\\_-WW_WW-\\_-SkillsNetwork-Courses-IBMDeveloperSkillsNetwork-DB0201EN-SkillsNetwork-20127838&cm_mmca1=000026UJ&cm_mmca2=10006555&cm_mmca3=M12345678&cvosrc=email.Newsletter.M12345678&cvo_campaign=000026UJ)\n",
        "\n",
        "### 3. Chicago Crime Data\n",
        "\n",
        "This dataset reflects reported incidents of crime (with the exception of murders where data exists for each victim) that occurred in the City of Chicago from 2001 to present, minus the most recent seven days.\n",
        "\n",
        "A detailed description of this dataset and the original dataset can be obtained from the Chicago Data Portal at:\n",
        "\n",
        "[https://data.cityofchicago.org/Public-Safety/Crimes-2001-to-present/ijzp-q8t2](https://data.cityofchicago.org/Public-Safety/Crimes-2001-to-present/ijzp-q8t2?utm_medium=Exinfluencer&utm_source=Exinfluencer&utm_content=000026UJ&utm_term=10006555&utm_id=NA-SkillsNetwork-Channel-SkillsNetworkCoursesIBMDeveloperSkillsNetworkDB0201ENSkillsNetwork20127838-2021-01-01&cm_mmc=Email_Newsletter-\\_-Developer_Ed%2BTech-\\_-WW_WW-\\_-SkillsNetwork-Courses-IBMDeveloperSkillsNetwork-DB0201EN-SkillsNetwork-20127838&cm_mmca1=000026UJ&cm_mmca2=10006555&cm_mmca3=M12345678&cvosrc=email.Newsletter.M12345678&cvo_campaign=000026UJ)\n"
      ]
    },
    {
      "cell_type": "markdown",
      "metadata": {
        "id": "e327355b-7453-492c-9df8-005c81cd195c"
      },
      "source": [
        "### Download the datasets\n",
        "\n",
        "This assignment requires you to have these three tables populated with a subset of the whole datasets.\n",
        "\n",
        "In many cases the dataset to be analyzed is available as a .CSV (comma separated values) file, perhaps on the internet.\n",
        "\n",
        "Use the links below to read the data files using the Pandas library.\n",
        "\n",
        "* Chicago Census Data\n",
        "\n",
        "https://cf-courses-data.s3.us.cloud-object-storage.appdomain.cloud/IBMDeveloperSkillsNetwork-DB0201EN-SkillsNetwork/labs/FinalModule_Coursera_V5/data/ChicagoCensusData.csv?utm_medium=Exinfluencer&utm_source=Exinfluencer&utm_content=000026UJ&utm_term=10006555&utm_id=NA-SkillsNetwork-Channel-SkillsNetworkCoursesIBMDeveloperSkillsNetworkDB0201ENSkillsNetwork20127838-2021-01-01\n",
        "\n",
        "* Chicago Public Schools\n",
        "\n",
        "https://cf-courses-data.s3.us.cloud-object-storage.appdomain.cloud/IBMDeveloperSkillsNetwork-DB0201EN-SkillsNetwork/labs/FinalModule_Coursera_V5/data/ChicagoPublicSchools.csv?utm_medium=Exinfluencer&utm_source=Exinfluencer&utm_content=000026UJ&utm_term=10006555&utm_id=NA-SkillsNetwork-Channel-SkillsNetworkCoursesIBMDeveloperSkillsNetworkDB0201ENSkillsNetwork20127838-2021-01-01\n",
        "\n",
        "* Chicago Crime Data\n",
        "\n",
        "https://cf-courses-data.s3.us.cloud-object-storage.appdomain.cloud/IBMDeveloperSkillsNetwork-DB0201EN-SkillsNetwork/labs/FinalModule_Coursera_V5/data/ChicagoCrimeData.csv?utm_medium=Exinfluencer&utm_source=Exinfluencer&utm_content=000026UJ&utm_term=10006555&utm_id=NA-SkillsNetwork-Channel-SkillsNetworkCoursesIBMDeveloperSkillsNetworkDB0201ENSkillsNetwork20127838-2021-01-01\n",
        "\n",
        "**NOTE:** Ensure you use the datasets available on the links above instead of directly from the Chicago Data Portal. The versions linked here are subsets of the original datasets and have some of the column names modified to be more database friendly which will make it easier to complete this assignment.\n"
      ]
    },
    {
      "cell_type": "code",
      "source": [
        "from google.colab import drive\n",
        "drive.mount('/content/drive')"
      ],
      "metadata": {
        "colab": {
          "base_uri": "https://localhost:8080/"
        },
        "id": "aKldpolVdJYo",
        "outputId": "98df4781-7712-47fd-ea5b-13d297ddf340"
      },
      "execution_count": 2,
      "outputs": [
        {
          "output_type": "stream",
          "name": "stdout",
          "text": [
            "Mounted at /content/drive\n"
          ]
        }
      ]
    },
    {
      "cell_type": "markdown",
      "metadata": {
        "id": "099f4b52-e64d-4e79-a6d4-8e7eecda15cc"
      },
      "source": [
        "### Store the datasets in database tables\n",
        "\n",
        "To analyze the data using SQL, it first needs to be loaded into SQLite DB.\n",
        "We will create three tables in as under:\n",
        "\n",
        "1.  **CENSUS_DATA**\n",
        "2.  **CHICAGO_PUBLIC_SCHOOLS**\n",
        "3.  **CHICAGO_CRIME_DATA**\n"
      ]
    },
    {
      "cell_type": "code",
      "source": [
        "!pip install ipython-sql prettytable\n",
        "\n",
        "import prettytable\n",
        "\n",
        "prettytable.DEFAULT = 'DEFAULT'"
      ],
      "metadata": {
        "colab": {
          "base_uri": "https://localhost:8080/"
        },
        "collapsed": true,
        "id": "tac81IiZVCFZ",
        "outputId": "6e730f45-2e28-4d18-efa9-cc13882e2671"
      },
      "execution_count": 3,
      "outputs": [
        {
          "output_type": "stream",
          "name": "stdout",
          "text": [
            "Requirement already satisfied: ipython-sql in /usr/local/lib/python3.11/dist-packages (0.5.0)\n",
            "Requirement already satisfied: prettytable in /usr/local/lib/python3.11/dist-packages (3.14.0)\n",
            "Requirement already satisfied: ipython in /usr/local/lib/python3.11/dist-packages (from ipython-sql) (7.34.0)\n",
            "Requirement already satisfied: sqlalchemy>=2.0 in /usr/local/lib/python3.11/dist-packages (from ipython-sql) (2.0.38)\n",
            "Requirement already satisfied: sqlparse in /usr/local/lib/python3.11/dist-packages (from ipython-sql) (0.5.3)\n",
            "Requirement already satisfied: six in /usr/local/lib/python3.11/dist-packages (from ipython-sql) (1.17.0)\n",
            "Requirement already satisfied: ipython-genutils in /usr/local/lib/python3.11/dist-packages (from ipython-sql) (0.2.0)\n",
            "Requirement already satisfied: wcwidth in /usr/local/lib/python3.11/dist-packages (from prettytable) (0.2.13)\n",
            "Requirement already satisfied: greenlet!=0.4.17 in /usr/local/lib/python3.11/dist-packages (from sqlalchemy>=2.0->ipython-sql) (3.1.1)\n",
            "Requirement already satisfied: typing-extensions>=4.6.0 in /usr/local/lib/python3.11/dist-packages (from sqlalchemy>=2.0->ipython-sql) (4.12.2)\n",
            "Requirement already satisfied: setuptools>=18.5 in /usr/local/lib/python3.11/dist-packages (from ipython->ipython-sql) (75.1.0)\n",
            "Collecting jedi>=0.16 (from ipython->ipython-sql)\n",
            "  Downloading jedi-0.19.2-py2.py3-none-any.whl.metadata (22 kB)\n",
            "Requirement already satisfied: decorator in /usr/local/lib/python3.11/dist-packages (from ipython->ipython-sql) (4.4.2)\n",
            "Requirement already satisfied: pickleshare in /usr/local/lib/python3.11/dist-packages (from ipython->ipython-sql) (0.7.5)\n",
            "Requirement already satisfied: traitlets>=4.2 in /usr/local/lib/python3.11/dist-packages (from ipython->ipython-sql) (5.7.1)\n",
            "Requirement already satisfied: prompt-toolkit!=3.0.0,!=3.0.1,<3.1.0,>=2.0.0 in /usr/local/lib/python3.11/dist-packages (from ipython->ipython-sql) (3.0.50)\n",
            "Requirement already satisfied: pygments in /usr/local/lib/python3.11/dist-packages (from ipython->ipython-sql) (2.18.0)\n",
            "Requirement already satisfied: backcall in /usr/local/lib/python3.11/dist-packages (from ipython->ipython-sql) (0.2.0)\n",
            "Requirement already satisfied: matplotlib-inline in /usr/local/lib/python3.11/dist-packages (from ipython->ipython-sql) (0.1.7)\n",
            "Requirement already satisfied: pexpect>4.3 in /usr/local/lib/python3.11/dist-packages (from ipython->ipython-sql) (4.9.0)\n",
            "Requirement already satisfied: parso<0.9.0,>=0.8.4 in /usr/local/lib/python3.11/dist-packages (from jedi>=0.16->ipython->ipython-sql) (0.8.4)\n",
            "Requirement already satisfied: ptyprocess>=0.5 in /usr/local/lib/python3.11/dist-packages (from pexpect>4.3->ipython->ipython-sql) (0.7.0)\n",
            "Downloading jedi-0.19.2-py2.py3-none-any.whl (1.6 MB)\n",
            "\u001b[2K   \u001b[90m━━━━━━━━━━━━━━━━━━━━━━━━━━━━━━━━━━━━━━━━\u001b[0m \u001b[32m1.6/1.6 MB\u001b[0m \u001b[31m16.4 MB/s\u001b[0m eta \u001b[36m0:00:00\u001b[0m\n",
            "\u001b[?25hInstalling collected packages: jedi\n",
            "Successfully installed jedi-0.19.2\n"
          ]
        }
      ]
    },
    {
      "cell_type": "markdown",
      "metadata": {
        "id": "0108d466-d5cb-47d8-8378-0b701fcf9121"
      },
      "source": [
        "Load the `pandas` and `sqlite3` libraries and establish a connection to `FinalDB.db`\n"
      ]
    },
    {
      "cell_type": "code",
      "metadata": {
        "colab": {
          "base_uri": "https://localhost:8080/"
        },
        "id": "bbf7c5f8-5369-4888-9523-3256396353b1",
        "outputId": "694288a1-8ef7-4e05-9d43-3827250ddbdf"
      },
      "outputs": [
        {
          "output_type": "stream",
          "name": "stdout",
          "text": [
            "Requirement already satisfied: pandas in /usr/local/lib/python3.11/dist-packages (2.2.2)\n",
            "Requirement already satisfied: numpy>=1.23.2 in /usr/local/lib/python3.11/dist-packages (from pandas) (1.26.4)\n",
            "Requirement already satisfied: python-dateutil>=2.8.2 in /usr/local/lib/python3.11/dist-packages (from pandas) (2.8.2)\n",
            "Requirement already satisfied: pytz>=2020.1 in /usr/local/lib/python3.11/dist-packages (from pandas) (2025.1)\n",
            "Requirement already satisfied: tzdata>=2022.7 in /usr/local/lib/python3.11/dist-packages (from pandas) (2025.1)\n",
            "Requirement already satisfied: six>=1.5 in /usr/local/lib/python3.11/dist-packages (from python-dateutil>=2.8.2->pandas) (1.17.0)\n"
          ]
        }
      ],
      "source": [
        "!pip install pandas\n",
        "import pandas as pd\n",
        "import sqlite3\n",
        "\n",
        "# Establish connection to the SQLite database\n",
        "conn = sqlite3.connect('FinalDB.db')"
      ],
      "execution_count": 4
    },
    {
      "cell_type": "markdown",
      "metadata": {
        "id": "1400004e-b879-49e7-9da1-83c5a1fb4f8d"
      },
      "source": [
        "Load the SQL magic module\n"
      ]
    },
    {
      "cell_type": "code",
      "metadata": {
        "id": "e82e93dc-a427-42fd-8909-ee4979865ba4"
      },
      "outputs": [],
      "source": [
        "%load_ext sql"
      ],
      "execution_count": 5
    },
    {
      "cell_type": "code",
      "source": [
        "%sql sqlite:///FinalDB.db"
      ],
      "metadata": {
        "id": "KShZGcBhcwdT"
      },
      "execution_count": 6,
      "outputs": []
    },
    {
      "cell_type": "markdown",
      "metadata": {
        "id": "d66c6f31-0c30-4f2c-9749-736f23d77be7"
      },
      "source": [
        "Use `Pandas` to load the data available in the links above to dataframes. Use these dataframes to load data on to the database `FinalDB.db` as required tables.\n"
      ]
    },
    {
      "cell_type": "code",
      "metadata": {
        "id": "eb06173b-80d6-4d00-92e2-dda7dfcc2e51"
      },
      "outputs": [],
      "source": [
        "crime_df = pd.read_csv('/content/ChicagoCrimeData.csv')\n",
        "census_df = pd.read_csv('/content/ChicagoCensusData.csv')\n",
        "schools_df = pd.read_csv('/content/ChicagoPublicSchools.csv')"
      ],
      "execution_count": 7
    },
    {
      "cell_type": "code",
      "source": [
        "# Connect to SQLite database (FinalDB.db)\n",
        "conn = sqlite3.connect('/content/FinalDB.db')\n",
        "cursor = conn.cursor()\n",
        "\n",
        "# Insert DataFrames into the database as tables\n",
        "crime_df.to_sql('ChicagoCrimeData', conn, if_exists='replace', index=False)\n",
        "census_df.to_sql('ChicagoCensusData', conn, if_exists='replace', index=False)\n",
        "schools_df.to_sql('ChicagoPublicSchools', conn, if_exists='replace', index=False)"
      ],
      "metadata": {
        "colab": {
          "base_uri": "https://localhost:8080/"
        },
        "id": "lkmvYv6ZdRMY",
        "outputId": "8bb3a39c-eb0e-4326-fed1-adefc76f1c5f"
      },
      "execution_count": 8,
      "outputs": [
        {
          "output_type": "execute_result",
          "data": {
            "text/plain": [
              "566"
            ]
          },
          "metadata": {},
          "execution_count": 8
        }
      ]
    },
    {
      "cell_type": "markdown",
      "source": [
        "Establish a connection between SQL magic module and the database FinalDB.db"
      ],
      "metadata": {
        "id": "fr4EcuzgdpuG"
      }
    },
    {
      "cell_type": "code",
      "source": [
        "%sql sqlite:////content/FinalDB.db\n"
      ],
      "metadata": {
        "id": "xVlGVaXSdzwE"
      },
      "execution_count": 9,
      "outputs": []
    },
    {
      "cell_type": "markdown",
      "metadata": {
        "id": "5c6c3f39-ad9f-4ea0-bf55-778805cc27df"
      },
      "source": [
        "You can now proceed to the the following questions. Please note that a graded assignment will follow this lab and there will be a question on each of the problems stated below. It can be from the answer you received or the code you write for this problem. Therefore, please keep a note of both your codes as well as the response you generate.\n"
      ]
    },
    {
      "cell_type": "markdown",
      "metadata": {
        "id": "1bb59f11-3308-4625-8e28-fb8320043150"
      },
      "source": [
        "## Problems\n",
        "\n",
        "Now write and execute SQL queries to solve assignment problems\n",
        "\n",
        "### Problem 1\n",
        "\n",
        "##### Find the total number of crimes recorded in the CRIME table.\n"
      ]
    },
    {
      "cell_type": "code",
      "metadata": {
        "id": "28666fa5-ecf7-45db-b417-9dfc7fbe1078",
        "colab": {
          "base_uri": "https://localhost:8080/",
          "height": 114
        },
        "outputId": "7dcc8271-0fc6-4ac2-b725-c8716ab07404"
      },
      "outputs": [
        {
          "output_type": "stream",
          "name": "stdout",
          "text": [
            " * sqlite:////content/FinalDB.db\n",
            "   sqlite:///FinalDB.db\n",
            "Done.\n"
          ]
        },
        {
          "output_type": "execute_result",
          "data": {
            "text/plain": [
              "[(533,)]"
            ],
            "text/html": [
              "<table>\n",
              "    <thead>\n",
              "        <tr>\n",
              "            <th>COUNT(*)</th>\n",
              "        </tr>\n",
              "    </thead>\n",
              "    <tbody>\n",
              "        <tr>\n",
              "            <td>533</td>\n",
              "        </tr>\n",
              "    </tbody>\n",
              "</table>"
            ]
          },
          "metadata": {},
          "execution_count": 10
        }
      ],
      "source": [
        "%sql SELECT COUNT(*) FROM ChicagoCrimeData;\n",
        "\n"
      ],
      "execution_count": 10
    },
    {
      "cell_type": "markdown",
      "metadata": {
        "id": "18751eee-cb5d-4d90-9876-8ed77d457c20"
      },
      "source": [
        "### Problem 2\n",
        "\n",
        "##### List community area names and numbers with per capita income less than 11000.\n"
      ]
    },
    {
      "cell_type": "code",
      "metadata": {
        "id": "b369da8e-49e0-4562-b3a0-462ac5ec19aa",
        "colab": {
          "base_uri": "https://localhost:8080/",
          "height": 178
        },
        "outputId": "d34d7dd6-513f-436c-ae84-084129646424"
      },
      "outputs": [
        {
          "output_type": "stream",
          "name": "stdout",
          "text": [
            " * sqlite:////content/FinalDB.db\n",
            "   sqlite:///FinalDB.db\n",
            "Done.\n"
          ]
        },
        {
          "output_type": "execute_result",
          "data": {
            "text/plain": [
              "[(26.0, 'West Garfield Park'),\n",
              " (30.0, 'South Lawndale'),\n",
              " (37.0, 'Fuller Park'),\n",
              " (54.0, 'Riverdale')]"
            ],
            "text/html": [
              "<table>\n",
              "    <thead>\n",
              "        <tr>\n",
              "            <th>COMMUNITY_AREA_NUMBER</th>\n",
              "            <th>COMMUNITY_AREA_NAME</th>\n",
              "        </tr>\n",
              "    </thead>\n",
              "    <tbody>\n",
              "        <tr>\n",
              "            <td>26.0</td>\n",
              "            <td>West Garfield Park</td>\n",
              "        </tr>\n",
              "        <tr>\n",
              "            <td>30.0</td>\n",
              "            <td>South Lawndale</td>\n",
              "        </tr>\n",
              "        <tr>\n",
              "            <td>37.0</td>\n",
              "            <td>Fuller Park</td>\n",
              "        </tr>\n",
              "        <tr>\n",
              "            <td>54.0</td>\n",
              "            <td>Riverdale</td>\n",
              "        </tr>\n",
              "    </tbody>\n",
              "</table>"
            ]
          },
          "metadata": {},
          "execution_count": 11
        }
      ],
      "source": [
        "%%sql\n",
        "SELECT community_area_number, community_area_name\n",
        "FROM ChicagoCensusData\n",
        "WHERE per_capita_income < 11000;\n"
      ],
      "execution_count": 11
    },
    {
      "cell_type": "markdown",
      "metadata": {
        "id": "3d8c56d3-bd9f-4c50-bace-bbd879f37f35"
      },
      "source": [
        "### Problem 3\n",
        "\n",
        "##### List all case numbers for crimes involving minors?(children are not considered minors for the purposes of crime analysis)\n"
      ]
    },
    {
      "cell_type": "code",
      "metadata": {
        "id": "a1d2d193-b220-4afd-99e1-7e3336c63b60",
        "colab": {
          "base_uri": "https://localhost:8080/",
          "height": 178
        },
        "outputId": "4b3836a4-b668-486c-e43a-e69286ca4529"
      },
      "outputs": [
        {
          "output_type": "stream",
          "name": "stdout",
          "text": [
            " * sqlite:////content/FinalDB.db\n",
            "   sqlite:///FinalDB.db\n",
            "Done.\n"
          ]
        },
        {
          "output_type": "execute_result",
          "data": {
            "text/plain": [
              "[('OFFENSE INVOLVING CHILDREN',),\n",
              " ('OFFENSE INVOLVING CHILDREN',),\n",
              " ('OFFENSE INVOLVING CHILDREN',),\n",
              " ('OFFENSE INVOLVING CHILDREN',)]"
            ],
            "text/html": [
              "<table>\n",
              "    <thead>\n",
              "        <tr>\n",
              "            <th>PRIMARY_TYPE</th>\n",
              "        </tr>\n",
              "    </thead>\n",
              "    <tbody>\n",
              "        <tr>\n",
              "            <td>OFFENSE INVOLVING CHILDREN</td>\n",
              "        </tr>\n",
              "        <tr>\n",
              "            <td>OFFENSE INVOLVING CHILDREN</td>\n",
              "        </tr>\n",
              "        <tr>\n",
              "            <td>OFFENSE INVOLVING CHILDREN</td>\n",
              "        </tr>\n",
              "        <tr>\n",
              "            <td>OFFENSE INVOLVING CHILDREN</td>\n",
              "        </tr>\n",
              "    </tbody>\n",
              "</table>"
            ]
          },
          "metadata": {},
          "execution_count": 28
        }
      ],
      "source": [
        "%%sql\n",
        "SELECT primary_type FROM ChicagoCrimeData WHERE primary_type = 'OFFENSE INVOLVING CHILDREN';\n"
      ],
      "execution_count": 28
    },
    {
      "cell_type": "markdown",
      "metadata": {
        "id": "504dd43a-5058-4f0d-83f4-d06ddf1df89b"
      },
      "source": [
        "### Problem 4\n",
        "\n",
        "##### List all kidnapping crimes involving a child?\n"
      ]
    },
    {
      "cell_type": "code",
      "metadata": {
        "id": "8f1b4341-f751-4644-b001-2df86d896e57"
      },
      "outputs": [],
      "source": [
        "%sql SELECT case_number FROM ChicagoCrimeData WHERE primary_type = 'OFFENSE INVOLVING CHILDREN';"
      ],
      "execution_count": null
    },
    {
      "cell_type": "markdown",
      "metadata": {
        "id": "f0f170e7-c35e-445a-a56b-f6f9e3809408"
      },
      "source": [
        "### Problem 5\n",
        "\n",
        "##### List the kind of crimes that were recorded at schools. (No repetitions)\n"
      ]
    },
    {
      "cell_type": "code",
      "metadata": {
        "id": "4a1c4110-11c5-460b-a722-0177cb217449",
        "colab": {
          "base_uri": "https://localhost:8080/",
          "height": 221
        },
        "outputId": "252db59b-e5b9-476c-8cf9-8ac4c3d83850"
      },
      "outputs": [
        {
          "output_type": "stream",
          "name": "stdout",
          "text": [
            " * sqlite:////content/FinalDB.db\n",
            "   sqlite:///FinalDB.db\n",
            "Done.\n"
          ]
        },
        {
          "output_type": "execute_result",
          "data": {
            "text/plain": [
              "[('BATTERY',),\n",
              " ('CRIMINAL DAMAGE',),\n",
              " ('NARCOTICS',),\n",
              " ('ASSAULT',),\n",
              " ('CRIMINAL TRESPASS',),\n",
              " ('PUBLIC PEACE VIOLATION',)]"
            ],
            "text/html": [
              "<table>\n",
              "    <thead>\n",
              "        <tr>\n",
              "            <th>CRIME_TYPE</th>\n",
              "        </tr>\n",
              "    </thead>\n",
              "    <tbody>\n",
              "        <tr>\n",
              "            <td>BATTERY</td>\n",
              "        </tr>\n",
              "        <tr>\n",
              "            <td>CRIMINAL DAMAGE</td>\n",
              "        </tr>\n",
              "        <tr>\n",
              "            <td>NARCOTICS</td>\n",
              "        </tr>\n",
              "        <tr>\n",
              "            <td>ASSAULT</td>\n",
              "        </tr>\n",
              "        <tr>\n",
              "            <td>CRIMINAL TRESPASS</td>\n",
              "        </tr>\n",
              "        <tr>\n",
              "            <td>PUBLIC PEACE VIOLATION</td>\n",
              "        </tr>\n",
              "    </tbody>\n",
              "</table>"
            ]
          },
          "metadata": {},
          "execution_count": 26
        }
      ],
      "source": [
        "%%sql\n",
        "SELECT DISTINCT primary_type  as CRIME_TYPE\n",
        "FROM ChicagoCrimeData\n",
        "WHERE location_description like '%SCHOOL%'"
      ],
      "execution_count": 26
    },
    {
      "cell_type": "markdown",
      "metadata": {
        "id": "9945dfd1-c38a-4682-91f9-488322994834"
      },
      "source": [
        "### Problem 6\n",
        "\n",
        "##### List the type of schools along with the average safety score for each type.\n"
      ]
    },
    {
      "cell_type": "code",
      "source": [
        "%%sql SELECT \"Elementary, Middle, or High School\",\n",
        "            AVG(SAFETY_SCORE) AS average_safety_score\n",
        "     FROM ChicagoPublicSchools\n",
        "     GROUP BY \"Elementary, Middle, or High School\";\n"
      ],
      "metadata": {
        "id": "XjrgvPM2h_GS"
      },
      "execution_count": null,
      "outputs": []
    },
    {
      "cell_type": "markdown",
      "metadata": {
        "id": "0eed90b0-7f2b-44a3-b43e-61185f3c3ddf"
      },
      "source": [
        "### Problem 7\n",
        "\n",
        "##### List 5 community areas with highest % of households below poverty line\n"
      ]
    },
    {
      "cell_type": "code",
      "metadata": {
        "id": "388ccb64-34ba-4308-9d84-c63034cff4d1"
      },
      "outputs": [],
      "source": [
        "%%sql\n",
        "SELECT COMMUNITY_AREA_NAME FROM ChicagoCensusData\n",
        "ORDER BY PERCENT_HOUSEHOLDS_BELOW_POVERTY\n",
        "DESC LIMIT 5"
      ],
      "execution_count": null
    },
    {
      "cell_type": "markdown",
      "metadata": {
        "id": "970a6de7-9f6a-407b-b137-771d1e92e8eb"
      },
      "source": [
        "### Problem 8\n",
        "\n",
        "##### Which community area is most crime prone? Display the coumminty area number only.\n"
      ]
    },
    {
      "cell_type": "code",
      "metadata": {
        "id": "3c390847-1803-4909-8dec-7ed66ce97505"
      },
      "outputs": [],
      "source": [
        "%%sql\n",
        "SELECT COMMUNITY_AREA_NUMBER ,COUNT(COMMUNITY_AREA_NUMBER) AS FREQUENCY\n",
        "FROM ChicagoCrimeData\n",
        "GROUP BY COMMUNITY_AREA_NUMBER\n",
        "ORDER BY COUNT(COMMUNITY_AREA_NUMBER) DESC\n",
        "LIMIT 1;"
      ],
      "execution_count": null
    },
    {
      "cell_type": "markdown",
      "metadata": {
        "id": "104b9aa4-6a8b-45c0-97ec-c15a5c012a1d"
      },
      "source": [
        "\n",
        "Double-click **here** for a hint\n",
        "\n",
        "<!--\n",
        "Query for the 'community area number' that has most number of incidents\n",
        "-->\n"
      ]
    },
    {
      "cell_type": "markdown",
      "metadata": {
        "id": "45490dbb-7c75-4bc5-8e03-9e550c0d1dfc"
      },
      "source": [
        "### Problem 9\n",
        "\n",
        "##### Use a sub-query to find the name of the community area with highest hardship index\n"
      ]
    },
    {
      "cell_type": "code",
      "metadata": {
        "id": "4c6c65e0-bdb7-49c7-a774-3828bcf9e9e9"
      },
      "outputs": [],
      "source": [
        "%%sql\n",
        "SELECT COMMUNITY_AREA_NAME\n",
        "FROM ChicagoCensusData WHERE HARDSHIP_INDEX IN (SELECT MAX(HARDSHIP_INDEX) FROM ChicagoCensusData);"
      ],
      "execution_count": null
    },
    {
      "cell_type": "markdown",
      "metadata": {
        "id": "c192c6db-9939-4d98-8d3a-f58b55b162d8"
      },
      "source": [
        "### Problem 10\n",
        "\n",
        "##### Use a sub-query to determine the Community Area Name with most number of crimes?\n"
      ]
    },
    {
      "cell_type": "code",
      "metadata": {
        "id": "1ff5b032-0132-412c-889d-e5fc772db962"
      },
      "outputs": [],
      "source": [
        "%%sql\n",
        "SELECT CENSUS.COMMUNITY_AREA_NAME, COUNT(CRIME.COMMUNITY_AREA_NUMBER) AS CRIME_COUNT\n",
        "FROM ChicagoCrimeData AS CRIME\n",
        "JOIN ChicagoCensusData AS CENSUS\n",
        "ON CRIME.COMMUNITY_AREA_NUMBER = CENSUS.COMMUNITY_AREA_NUMBER\n",
        "GROUP BY CENSUS.COMMUNITY_AREA_NAME\n",
        "ORDER BY CRIME_COUNT DESC\n",
        "LIMIT 1;\n"
      ],
      "execution_count": null
    },
    {
      "cell_type": "markdown",
      "metadata": {
        "id": "767b7a13-9503-4252-968e-75a6a050a457"
      },
      "source": [
        "## Author(s)\n",
        "\n",
        "<h4> Hima Vasudevan </h4>\n",
        "<h4> Rav Ahuja </h4>\n",
        "<h4> Ramesh Sannreddy </h4>\n",
        "\n",
        "## Contribtuor(s)\n",
        "\n",
        "<h4> Malika Singla </h4>\n",
        "<h4>Abhishek Gagneja</h4>\n",
        "<!--\n",
        "## Change log\n",
        "\n",
        "| Date       | Version | Changed by        | Change Description                             |\n",
        "| ---------- | ------- | ----------------- | ---------------------------------------------- |\n",
        "|2023-10-18  | 2.6     | Abhishek Gagneja  | Modified instruction set |\n",
        "| 2022-03-04 | 2.5     | Lakshmi Holla     | Changed markdown.                   |\n",
        "| 2021-05-19 | 2.4     | Lakshmi Holla     | Updated the question                           |\n",
        "| 2021-04-30 | 2.3     | Malika Singla     | Updated the libraries                          |\n",
        "| 2021-01-15 | 2.2     | Rav Ahuja         | Removed problem 11 and fixed changelog         |\n",
        "| 2020-11-25 | 2.1     | Ramesh Sannareddy | Updated the problem statements, and datasets   |\n",
        "| 2020-09-05 | 2.0     | Malika Singla     | Moved lab to course repo in GitLab             |\n",
        "| 2018-07-18 | 1.0     | Rav Ahuja         | Several updates including loading instructions |\n",
        "| 2018-05-04 | 0.1     | Hima Vasudevan    | Created initial version                        |\n",
        "-->\n",
        "## <h3 align=\"center\"> © IBM Corporation 2023. All rights reserved. <h3/>\n"
      ]
    }
  ],
  "metadata": {
    "kernelspec": {
      "display_name": "Python",
      "language": "python",
      "name": "conda-env-python-py"
    },
    "language_info": {
      "name": "python",
      "version": "3.7.12",
      "mimetype": "text/x-python",
      "codemirror_mode": {
        "name": "ipython",
        "version": 3
      },
      "pygments_lexer": "ipython3",
      "nbconvert_exporter": "python",
      "file_extension": ".py"
    },
    "prev_pub_hash": "3c6bc487a66d442614b3071a4d6ea7fa0785b37ce97cb46f3bcb7a9010c84b6f",
    "colab": {
      "provenance": []
    }
  },
  "nbformat": 4,
  "nbformat_minor": 0
}